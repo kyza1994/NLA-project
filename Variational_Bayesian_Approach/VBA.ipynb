{
 "cells": [
  {
   "cell_type": "code",
   "execution_count": 24,
   "metadata": {
    "collapsed": false
   },
   "outputs": [],
   "source": [
    "import numpy as np\n",
    "import scipy.special as ss "
   ]
  },
  {
   "cell_type": "code",
   "execution_count": 25,
   "metadata": {
    "collapsed": true
   },
   "outputs": [],
   "source": [
    "class VBA(object):\n",
    "    def __init__(self, K, Y):\n",
    "        self.K = K\n",
    "        self.Y = Y\n",
    "        self.N = Y.shape[0]\n",
    "        self.B = np.zeros((self.K, self.K))\n",
    "        self.alpha = np.zeros((1, self.K))\n",
    "        \n",
    "        self.phi_pq = {}\n",
    "        self.phi_qp = {}\n",
    "        for i in xrange(self.N-1):\n",
    "            for j in xrange(i+1, self.N):\n",
    "                self.phi_pq[(i,j)] = np.zeros((1, self.K))\n",
    "                self.phi_qp[(i,j)] = np.zeros((1, self.K))\n",
    "        \n",
    "        self.gamma = np.zeros((self.N, self.N))\n",
    "        self.rho = 0\n",
    "        \n",
    "    def indOrder(i, j):\n",
    "        if i > j:\n",
    "            return (i,j)\n",
    "        else:\n",
    "            return (j,i)\n",
    "\n",
    "    def update_gamma(self):\n",
    "        for p in xrange(self.N):\n",
    "            for k in xrange(self.N):\n",
    "                self.gamma[p,k] = self.alpha[k]\n",
    "                for q in xrange(self.N):\n",
    "                    if q != p:\n",
    "                        self.gamma[p,k] += self.phi_pq[indOrder(p,q)][k] + self.phi_qp[indOrder(p,q)][k]\n",
    "                        \n",
    "    def update_B(self):\n",
    "        for g in xrange(self.K):\n",
    "            for h in xrange(self.K):\n",
    "                numerator, denominator = 0, 0\n",
    "                for p in xrange(self.N):\n",
    "                    for q in xrange(self.N):\n",
    "                        if p != q:\n",
    "                            numerator += self.Y[p,q] * self.phi_pq[indOrder(p,q)][g] * self.phi_qp[indOrder(p,q)][h]\n",
    "                            denominator += (1 - self.rho) * self.phi_pq[indOrder(p,q)][g] * self.phi_qp[indOrder(p,q)][h]\n",
    "                self.B[g,h] = numerator / denominator\n",
    "                \n",
    "    def update_rho(self):\n",
    "        numerator, denominator = 0, 0\n",
    "        for p in xrange(self.N):\n",
    "            for q in xrange(self.N):\n",
    "                if p != q:\n",
    "                    summ = 0\n",
    "                    for g in xrange(self.K):\n",
    "                        for h in xrange(self.K):\n",
    "                            summ += self.phi_pq[indOrder(p,q)][g] * self.phi_qp[indOrder(p,q)][h]\n",
    "                            denominator += self.phi_pq[indOrder(p,q)][g] * self.phi_qp[indOrder(p,q)][h]\n",
    "                numerator += (1 - self.Y[p,q]) * summ\n",
    "        self.rho = numerator / denominator\n",
    "        \n",
    "    def update_phi(self):\n",
    "        phi_pq = {}\n",
    "        phi_qp = {}\n",
    "        for i in xrange(self.N-1):\n",
    "            for j in xrange(i+1, self.N):\n",
    "                phi_pq[(i,j)] = np.zeros((1, self.K))\n",
    "                phi_qp[(i,j)] = np.zeros((1, self.K))\n",
    "                \n",
    "        for p in xrange(self.N-1):\n",
    "            for q in xrange(i+1, self.N):\n",
    "                for g in xrange(self.K):\n",
    "                    product = 1\n",
    "                    for h in xrange(self.K):\n",
    "                        product *= (self.B[g,h]**(self.Y[p,q]) * (1 - self.B[g,h])**(1 - self.Y[p,q]))**(self.phi_qp[indOrder(p,q)][h])\n",
    "                    phi_pq[indOrder(p,q)][g] = product * np.exp(ss.psi(self.alpha[g]) - ss.psi(np.sum(self.alpha)))\n",
    "                \n",
    "        for p in xrange(self.N-1):\n",
    "            for q in xrange(i+1, self.N):\n",
    "                for h in xrange(self.K):\n",
    "                    product = 1\n",
    "                    for g in xrange(self.K):\n",
    "                        product *= (self.B[g,h]**(self.Y[p,q]) * (1 - self.B[g,h])**(1 - self.Y[p,q]))**(self.phi_pq[indOrder(p,q)][g])\n",
    "                    phi_qp[indOrder(p,q)][h] = product * np.exp(ss.psi(self.alpha[h]) - ss.psi(np.sum(self.alpha)))\n",
    "        \n",
    "        for i in xrange(self.N-1):\n",
    "            for j in xrange(i+1, self.N):\n",
    "                phi_pq[(i,j)] = phi_pq[(i,j)] / np.sum(phi_pq[(i,j)])\n",
    "                phi_qp[(i,j)] = phi_qp[(i,j)] / np.sum(phi_qp[(i,j)])\n",
    "                \n",
    "        self.phi_pq = phi_pq\n",
    "        self.phi_qp = phi_qp\n",
    "        \n",
    "        \n",
    "        \n",
    "    def print_params(self):\n",
    "        print self.gamma"
   ]
  },
  {
   "cell_type": "code",
   "execution_count": 26,
   "metadata": {
    "collapsed": false
   },
   "outputs": [
    {
     "name": "stdout",
     "output_type": "stream",
     "text": [
      "[[ 0.  0.  0.]\n",
      " [ 0.  0.  0.]\n",
      " [ 0.  0.  0.]]\n"
     ]
    }
   ],
   "source": [
    "Y = np.array([[0, 0, 1],\n",
    "             [1, 0, 0],\n",
    "             [0, 1, 1]])\n",
    "a = VBA(2, Y)\n",
    "a.print_params()"
   ]
  }
 ],
 "metadata": {
  "anaconda-cloud": {},
  "kernelspec": {
   "display_name": "Python [default]",
   "language": "python",
   "name": "python2"
  },
  "language_info": {
   "codemirror_mode": {
    "name": "ipython",
    "version": 2
   },
   "file_extension": ".py",
   "mimetype": "text/x-python",
   "name": "python",
   "nbconvert_exporter": "python",
   "pygments_lexer": "ipython2",
   "version": "2.7.12"
  }
 },
 "nbformat": 4,
 "nbformat_minor": 1
}
