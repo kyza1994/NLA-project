{
 "cells": [
  {
   "cell_type": "code",
   "execution_count": 16,
   "metadata": {
    "collapsed": false
   },
   "outputs": [],
   "source": [
    "import numpy as np\n",
    "import scipy.special as ss \n",
    "import scipy.sparse as ssp\n",
    "import copy\n",
    "import numpy as np\n",
    "import scipy.sparse as ssp\n",
    "import matplotlib.pyplot as plt\n",
    "%matplotlib inline\n",
    "\n",
    "import networkx as nx"
   ]
  },
  {
   "cell_type": "code",
   "execution_count": 35,
   "metadata": {
    "collapsed": true
   },
   "outputs": [],
   "source": [
    "f = open('row_data.gml', 'r')\n",
    "i = 0\n",
    "nx = []\n",
    "ny = []\n",
    "labels = []"
   ]
  },
  {
   "cell_type": "code",
   "execution_count": 36,
   "metadata": {
    "collapsed": false
   },
   "outputs": [],
   "source": [
    "line = f.readline()\n",
    "i = 0\n",
    "while True:\n",
    "    line = f.readline().split()\n",
    "    if not line:\n",
    "        break\n",
    "    if 'node' in line:\n",
    "        j = 0\n",
    "        while j < 2:\n",
    "            f.readline()\n",
    "            j += 1\n",
    "        labels.append(int(f.readline().split()[1]))\n",
    "    if 'edge' in line:\n",
    "        nx.append(int(f.readline().split()[1]) - 1)\n",
    "        ny.append(int(f.readline().split()[1]) - 1)\n",
    "f.close()"
   ]
  },
  {
   "cell_type": "code",
   "execution_count": 37,
   "metadata": {
    "collapsed": false
   },
   "outputs": [
    {
     "name": "stdout",
     "output_type": "stream",
     "text": [
      "(19090L,) (19090L,) (19090L,) (1490L,)\n"
     ]
    }
   ],
   "source": [
    "data = np.ones(len(nx))\n",
    "nx = np.ndarray.flatten(np.array(nx))\n",
    "ny = np.ndarray.flatten(np.array(ny))\n",
    "labels = np.array(labels)                                                             #group of node: 0 or 1\n",
    "print data.shape, nx.shape, ny.shape, labels.shape\n",
    "Y = ssp.csr_matrix((data, (nx, ny)), shape=(labels.shape[0], labels.shape[0]))        #adjacency  matrix"
   ]
  },
  {
   "cell_type": "code",
   "execution_count": 38,
   "metadata": {
    "collapsed": false
   },
   "outputs": [
    {
     "data": {
      "text/plain": [
       "<matplotlib.lines.Line2D at 0x1432c3c8>"
      ]
     },
     "execution_count": 38,
     "metadata": {},
     "output_type": "execute_result"
    },
    {
     "data": {
      "image/png": "[encoded data removed]",
      "text/plain": [
       "<matplotlib.figure.Figure at 0x9daaef0>"
      ]
     },
     "metadata": {},
     "output_type": "display_data"
    }
   ],
   "source": [
    "plt.pyplot.spy(Y[700:800, 700:800], markersize=1)"
   ]
  },
  {
   "cell_type": "code",
   "execution_count": 39,
   "metadata": {
    "collapsed": true
   },
   "outputs": [],
   "source": [
    "Y = Y[700:800, 700:800]"
   ]
  },
  {
   "cell_type": "code",
   "execution_count": null,
   "metadata": {
    "collapsed": true
   },
   "outputs": [],
   "source": []
  },
  {
   "cell_type": "code",
   "execution_count": 166,
   "metadata": {
    "collapsed": false
   },
   "outputs": [],
   "source": [
    "class VBA(object):\n",
    "    def __init__(self, K, Y):\n",
    "        self.K = K\n",
    "        self.Y = Y\n",
    "        self.N = Y.shape[0]\n",
    "        self.B = np.random.rand(self.K, self.K) * 0.1 + np.diag([0.3]*self.K) #np.diag([0.9]*self.K) + 0.01\n",
    "        self.alpha = np.random.rand(self.K) * 0.01\n",
    "        \n",
    "        self.phi_pq = {}\n",
    "        self.phi_qp = {}\n",
    "        for i in xrange(self.N):\n",
    "            for j in xrange(self.N):\n",
    "                self.phi_pq[(i,j)] = np.ones(self.K) * (1. / self.K)\n",
    "                self.phi_qp[(i,j)] = np.ones(self.K) * (1. / self.K)\n",
    "        \n",
    "        self.gamma = np.ones((self.N, self.K)) * (2.*self.N / self.K)\n",
    "        self.rho = 0\n",
    "        \n",
    "        #self.B_new = np.random.rand(self.K, self.K)#np.diag([0.9]*self.K) + 0.01\n",
    "        #self.alpha_new = copy.deepcopy(self.alpha)\n",
    "        #self.phi_pq_new = {}\n",
    "        #self.phi_qp_new = {}\n",
    "        #for i in xrange(self.N):\n",
    "        #    for j in xrange(self.N):\n",
    "        #        self.phi_pq_new[(i,j)] = np.ones(self.K) * (1. / self.K)\n",
    "        #        self.phi_qp_new[(i,j)] = np.ones(self.K) * (1. / self.K)\n",
    "        #self.gamma_new = np.ones((self.N, self.K)) * (2.*self.N / self.K)\n",
    "\n",
    "        \n",
    "    def update_gamma(self, p):\n",
    "        for k in xrange(self.K):\n",
    "            self.gamma[p,k] = self.alpha[k]\n",
    "            for q in xrange(self.N):\n",
    "                self.gamma[p,k] += self.phi_pq[(p,q)][k] + self.phi_qp[(p, q)][k]\n",
    "\n",
    "            \n",
    "    def update_B(self):\n",
    "        for g in xrange(self.K):\n",
    "            for h in xrange(self.K):\n",
    "                numerator, denominator = 0., 0.\n",
    "                for p in xrange(self.N):\n",
    "                    for q in xrange(self.N):\n",
    "                        numerator += self.Y[p,q] * self.phi_pq[(p,q)][g] * \\\n",
    "                                     self.phi_qp[(q,p)][h]\n",
    "                        denominator += self.phi_pq[(p,q)][g] * \\\n",
    "                                        self.phi_qp[(q,p)][h]\n",
    "                self.B[g,h] = numerator / ((1 - self.rho)*denominator)\n",
    "        \n",
    "        \n",
    "    def update_rho(self):\n",
    "        numerator, denominator = 0., 0.\n",
    "        for p in xrange(self.N):\n",
    "            for q in xrange(self.N):\n",
    "                summ = 0\n",
    "                for g in xrange(self.K):\n",
    "                    for h in xrange(self.K):\n",
    "                        summ += self.phi_pq[(p,q)][g] * self.phi_qp[(q,p)][h]\n",
    "                        denominator += self.phi_pq[(p,q)][g] * self.phi_qp[(q,p)][h]\n",
    "                numerator += (1. - self.Y[p,q]) * summ\n",
    "        self.rho = numerator / denominator\n",
    "        print self.rho\n",
    "        \n",
    "        \n",
    "    def update_phi(self, p, q):\n",
    "        eps = 1e-3\n",
    "        phi_pq = np.ones(self.K) * (1./self.K)\n",
    "        phi_qp = np.ones(self.K) * (1./self.K)\n",
    "        self.phi_pq[(p,q)] = np.ones(self.K) * (1./self.K)\n",
    "        self.phi_qp[(q,p)] = np.ones(self.K) * (1./self.K)\n",
    "        \n",
    "        it = 0\n",
    "        while True:\n",
    "            it += 1\n",
    "            for g in xrange(self.K):\n",
    "                product = 1.\n",
    "                for h in xrange(self.K):\n",
    "                    product *= (self.B[g,h]**(self.Y[p,q]) * \\\n",
    "                                (1 - self.B[g,h])**(1 - self.Y[p,q]))**(self.phi_qp[(q,p)][h])\n",
    "                phi_pq[g] = product * np.exp(ss.psi(self.gamma[p,g]) - ss.psi(np.sum(self.gamma[p])))\n",
    "                                    \n",
    "            for h in xrange(self.K):\n",
    "                product = 1.\n",
    "                for g in xrange(self.K):\n",
    "                    product *= (self.B[g,h]**(self.Y[p,q]) * \\\n",
    "                                (1 - self.B[g,h])**(1 - self.Y[p,q]))**(self.phi_pq[(p,q)][g])\n",
    "                phi_qp[h] = product * np.exp(ss.psi(self.gamma[q,h]) - ss.psi(np.sum(self.gamma[q])))\n",
    "                                    \n",
    "                    \n",
    "            phi_pq = phi_pq / np.sum(phi_pq)\n",
    "            phi_qp = phi_qp / np.sum(phi_qp)\n",
    "            \n",
    "            if np.linalg.norm(phi_pq -  self.phi_pq[(p,q)]) <= eps and np.linalg.norm(phi_qp -  self.phi_qp[(q,p)]) <= eps:\n",
    "                self.phi_pq[(p,q)] = copy.deepcopy(phi_pq)\n",
    "                self.phi_qp[(q,p)] = copy.deepcopy(phi_qp) \n",
    "                break\n",
    "            if it > 100:\n",
    "                print 'No convergence of phi', np.linalg.norm(phi_pq -  self.phi_pq_new[(p,q)])\n",
    "                break\n",
    "            self.phi_pq[(p,q)] = copy.deepcopy(phi_pq)\n",
    "            self.phi_qp[(q,p)] = copy.deepcopy(phi_qp)\n",
    "           \n",
    "        \n",
    "    def get_Laplacian(self):\n",
    "        laplacian = np.zeros(self.K)\n",
    "        for k in xrange(self.K):\n",
    "            laplacian[k] += self.N * (ss.psi(np.sum(self.alpha)) - ss.psi(self.alpha[k]))\n",
    "            for p in xrange(self.N):\n",
    "                laplacian[k] += ss.psi(self.gamma[p, k]) - ss.psi(np.sum(self.gamma[p]))\n",
    "                #print 'cheack ', ss.psi(self.gamma[p, k]), self.gamma[p, k]\n",
    "        return laplacian\n",
    "    \n",
    "    \n",
    "    def get_Hessian(self):\n",
    "        hessian = np.zeros((self.K, self.K))\n",
    "        for k1 in xrange(self.K):\n",
    "            for k2 in xrange(self.K):\n",
    "                hessian[k1, k2] += self.N * (-int(k1 == k2) * \\\n",
    "                                             ss.polygamma(1, self.alpha[k1]) + ss.polygamma(1, np.sum(self.alpha)))\n",
    "        return hessian\n",
    "        \n",
    "        \n",
    "    def update_alpha(self):\n",
    "        '''\n",
    "        Newton-Raphson method \n",
    "        '''\n",
    "        alp = np.zeros(self.K)\n",
    "        eps = 1e-3\n",
    "        while True:\n",
    "            hess_inv = np.linalg.inv(self.get_Hessian())\n",
    "\n",
    "            lap = self.get_Laplacian()\n",
    "            mu = 1./2\n",
    "            #print 'lap',  lap\n",
    "\n",
    "            while True:\n",
    "                alp = self.alpha - mu * hess_inv.dot(lap.T)\n",
    "                if np.all(alp > 0):\n",
    "                    break\n",
    "                else:\n",
    "                    mu /= 2\n",
    "            if np.linalg.norm(alp - self.alpha) <= eps:\n",
    "                self.alpha = copy.deepcopy(alp)\n",
    "                break\n",
    "            self.alpha = copy.deepcopy(alp)\n",
    "\n",
    "                \n",
    "    def run(self):\n",
    "        eps = 1e-3 \n",
    "        i = 0\n",
    "        #self.update_B()\n",
    "        #self.update_alpha()\n",
    "        #self.renew()\n",
    "        \n",
    "        #self.initialize()\n",
    "        \n",
    "        while True:\n",
    "            i += 1\n",
    "            gamma = copy.deepcopy(self.gamma)\n",
    "            for p in xrange(self.N):\n",
    "                for q in xrange(self.N):\n",
    "                    self.update_phi(p,q)\n",
    "                    self.update_gamma(p)\n",
    "                    self.update_gamma(q)\n",
    "                    self.update_B()\n",
    "            print 'iter', i, np.linalg.norm(self.gamma - gamma)\n",
    "            #self.update_B()\n",
    "            self.update_alpha()\n",
    "            self.renew()\n",
    "            print 'function befor alpha', self.func_L()\n",
    "            if (i+1) % 1 == 0:\n",
    "                print 'updated alpha', self.alpha\n",
    "                print 'updated gamma', self.gamma\n",
    "                print 'B', self.B \n",
    "                for j in self.phi_pq:\n",
    "                    print j, self.phi_pq[j], '\\t', self.phi_qp[j]\n",
    "            if np.linalg.norm(self.gamma - gamma) <= eps or i >= 3:\n",
    "                break\n",
    "                \n",
    "    def renew(self):\n",
    "        pass\n",
    "        #self.B = copy.deepcopy(self.B_new)\n",
    "        #self.alpha = copy.deepcopy(self.alpha_new)   \n",
    "        #self.phi_pq = copy.deepcopy(self.phi_pq_new)\n",
    "        #self.phi_qp = copy.deepcopy(self.phi_qp_new)\n",
    "        #self.gamma = copy.deepcopy(self.gamma_new)\n",
    "        \n",
    "    def get_group(self):\n",
    "        diff = self.gamma - self.alpha\n",
    "        group = []\n",
    "        for i in diff:\n",
    "            group.append(i.argmax())\n",
    "        return group\n",
    "    \n",
    "    def func_L(self):\n",
    "        summ = 0\n",
    "        for p in xrange(self.N):\n",
    "            for q in xrange(self.N):\n",
    "                for g in xrange(self.K):\n",
    "                    for h in xrange(self.K):\n",
    "                        summ += self.phi_pq[(p,q)][g] * self.phi_qp[(q,p)][h] * \\\n",
    "                                 (self.Y[p,q] * np.log(self.B[g,h]) + (1 - self.Y[p,q])*np.log(1 - self.B[g,h]))\n",
    "                            \n",
    "        for p in xrange(self.N):\n",
    "            for q in xrange(self.N):\n",
    "                for g in xrange(self.K):\n",
    "                    summ += self.phi_pq[(p,q)][g] * (ss.psi(self.gamma[p,g]) - ss.psi(np.sum(self.gamma[p])))\n",
    "                    \n",
    "        for p in xrange(self.N):\n",
    "            for q in xrange(self.N):\n",
    "                for g in xrange(self.K):\n",
    "                    summ += self.phi_qp[(q,p)][g] * (ss.psi(self.gamma[p,g]) - ss.psi(np.sum(self.gamma[p])))\n",
    "                    \n",
    "        summ += self.N * ss.gammaln(np.sum(self.alpha))\n",
    "        \n",
    "        for k in xrange(self.K):\n",
    "            summ -= self.N * ss.gammaln(self.alpha[k])\n",
    "            \n",
    "        for p in xrange(self.N):\n",
    "            for k in xrange (self.K):\n",
    "                summ += (self.alpha[k] - 1) * (ss.psi(self.gamma[p,k]) - ss.psi(np.sum(self.gamma[p])))\n",
    "        \n",
    "        for p in xrange(self.N):\n",
    "            summ -= ss.gammaln(np.sum(self.gamma[p]))\n",
    "        \n",
    "        for p in xrange(self.N):\n",
    "            for k in xrange(self.K):\n",
    "                summ += ss.gammaln(self.gamma[p,k])\n",
    "            \n",
    "        for p in xrange(self.N):\n",
    "            for k in xrange (self.K):\n",
    "                summ -= (self.gamma[p,k] - 1) * (ss.psi(self.gamma[p,k]) - ss.psi(np.sum(self.gamma[p])))\n",
    "                \n",
    "        for p in xrange(self.N):\n",
    "            for q in xrange(self.N):\n",
    "                for g in xrange(self.K):\n",
    "                    summ -= self.phi_pq[(p,q)][g] * np.log(self.phi_pq[(p,q)][g])\n",
    "                    summ -= self.phi_qp[(q,p)][g] * np.log(self.phi_qp[(q,p)][g])\n",
    "        return summ\n",
    "\n",
    "    def initialize(self):\n",
    "        self.B = np.array([[0.88, 0.01],\n",
    "                           [0.01, 0.88]])\n",
    "        self.alpha = np.array([ 0.01242805, 0.00878849])\n",
    "        \n",
    "        self.gamma = np.array([[1, 0.01],\n",
    "                               [1, 0.01],\n",
    "                               [1, 0.01],\n",
    "                               [1, 0.01],\n",
    "                               [1, 0.01],\n",
    "                               [1, 0.01],\n",
    "                               [0.01, 1],\n",
    "                               [0.01, 1],\n",
    "                               [0.01, 1]])"
   ]
  },
  {
   "cell_type": "code",
   "execution_count": null,
   "metadata": {
    "collapsed": true
   },
   "outputs": [],
   "source": [
    "\n",
    "Y = np.array([[0, 1, 1, 0, 0, 0, 0, 0, 0],\n",
    "              [1, 0, 1, 0, 1, 0, 0, 0, 0],\n",
    "              [1, 1, 0, 1, 0, 1, 0, 0, 0], \n",
    "              [0, 1, 1, 0, 1, 1, 0, 0, 0], \n",
    "              [0, 0, 1, 1, 0, 1, 0, 0, 0],\n",
    "              [0, 0, 0, 1, 1, 0, 0, 0, 0],\n",
    "              [0, 0, 0, 0, 0, 0, 1, 0, 1],\n",
    "              [0, 0, 0, 0, 0, 0, 1, 0, 1],\n",
    "              [0, 0, 0, 1, 0, 0, 1, 1, 0]])\n",
    "a = VBA(2, Y)\n",
    "a.run()\n",
    "#a.initialize()\n",
    "#a.check()"
   ]
  },
  {
   "cell_type": "code",
   "execution_count": 157,
   "metadata": {
    "collapsed": false
   },
   "outputs": [
    {
     "data": {
      "text/plain": [
       "array([[-0.00085164,  0.00203521],\n",
       "       [ 0.00100271,  0.00018086],\n",
       "       [ 0.00285777, -0.0016742 ],\n",
       "       [ 0.00286091, -0.00167734],\n",
       "       [ 0.00100411,  0.00017945],\n",
       "       [-0.00016458,  0.00134814],\n",
       "       [-0.00016213,  0.0013457 ],\n",
       "       [-0.00153767,  0.00272124],\n",
       "       [ 0.00031904,  0.00086453]])"
      ]
     },
     "execution_count": 157,
     "metadata": {},
     "output_type": "execute_result"
    }
   ],
   "source": [
    "a.gamma - a.alpha"
   ]
  },
  {
   "cell_type": "code",
   "execution_count": 159,
   "metadata": {
    "collapsed": false,
    "scrolled": true
   },
   "outputs": [
    {
     "data": {
      "text/plain": [
       "[1, 0, 0, 0, 0, 1, 1, 1, 1]"
      ]
     },
     "execution_count": 159,
     "metadata": {},
     "output_type": "execute_result"
    }
   ],
   "source": [
    "gr = a.get_group()\n",
    "gr"
   ]
  },
  {
   "cell_type": "code",
   "execution_count": 147,
   "metadata": {
    "collapsed": false
   },
   "outputs": [
    {
     "data": {
      "image/png": "[encoded data removed]",
      "text/plain": [
       "<matplotlib.figure.Figure at 0x9bcb5f8>"
      ]
     },
     "metadata": {},
     "output_type": "display_data"
    }
   ],
   "source": [
    "gr1 = [i for i in range(len(gr)) if gr[i] == 0]\n",
    "gr2 = [i for i in range(len(gr)) if gr[i] == 1]\n",
    "\n",
    "G = nx.from_numpy_matrix(np.matrix(Y))\n",
    "pos = nx.spring_layout(G)\n",
    "\n",
    "plt.figure(figsize = (8,8))\n",
    "\n",
    "nx.draw_networkx_nodes(G, pos, node_size=100, node_color = \"g\")\n",
    "nx.draw_networkx_nodes(G, pos, gr1, node_size=100, node_color = \"r\")\n",
    "nx.draw_networkx_nodes(G, pos, gr2, node_size=100, node_color = \"b\")\n",
    "\n",
    "\n",
    "nx.draw_networkx_edges(G, pos, G.edges())\n",
    "plt.show()"
   ]
  }
 ],
 "metadata": {
  "anaconda-cloud": {},
  "kernelspec": {
   "display_name": "Python [default]",
   "language": "python",
   "name": "python2"
  },
  "language_info": {
   "codemirror_mode": {
    "name": "ipython",
    "version": 2
   },
   "file_extension": ".py",
   "mimetype": "text/x-python",
   "name": "python",
   "nbconvert_exporter": "python",
   "pygments_lexer": "ipython2",
   "version": "2.7.12"
  }
 },
 "nbformat": 4,
 "nbformat_minor": 1
}
