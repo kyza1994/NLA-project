{
 "cells": [
  {
   "cell_type": "code",
   "execution_count": 15,
   "metadata": {
    "collapsed": true
   },
   "outputs": [],
   "source": [
    "import numpy as np\n",
    "import scipy.sparse as ssp"
   ]
  },
  {
   "cell_type": "code",
   "execution_count": 38,
   "metadata": {
    "collapsed": false
   },
   "outputs": [],
   "source": [
    "f = open('row_data.gml', 'r')\n",
    "i = 0\n",
    "nx = []\n",
    "ny = []\n",
    "labels = []"
   ]
  },
  {
   "cell_type": "code",
   "execution_count": 39,
   "metadata": {
    "collapsed": false
   },
   "outputs": [],
   "source": [
    "line = f.readline()\n",
    "i = 0\n",
    "while True:\n",
    "    line = f.readline().split()\n",
    "    if not line:\n",
    "        break\n",
    "    if 'node' in line:\n",
    "        j = 0\n",
    "        while j < 2:\n",
    "            f.readline()\n",
    "            j += 1\n",
    "        labels.append(int(f.readline().split()[1]))\n",
    "    if 'edge' in line:\n",
    "        nx.append(int(f.readline().split()[1]) - 1)\n",
    "        ny.append(int(f.readline().split()[1]) - 1)\n",
    "f.close()"
   ]
  },
  {
   "cell_type": "code",
   "execution_count": 40,
   "metadata": {
    "collapsed": false
   },
   "outputs": [
    {
     "name": "stdout",
     "output_type": "stream",
     "text": [
      "(19047L,) (19047L,) (19047L,) (1490L,)\n"
     ]
    }
   ],
   "source": [
    "data = np.ones(len(nx))\n",
    "nx = np.ndarray.flatten(np.array(nx))\n",
    "ny = np.ndarray.flatten(np.array(ny))\n",
    "labels = np.array(labels)                                                             #group of node: 0 or 1\n",
    "print data.shape, nx.shape, ny.shape, labels.shape\n",
    "Y = ssp.csr_matrix((data, (nx, ny)), shape=(labels.shape[0], labels.shape[0]))        #adjacency  matrix"
   ]
  }
 ],
 "metadata": {
  "anaconda-cloud": {},
  "kernelspec": {
   "display_name": "Python [default]",
   "language": "python",
   "name": "python2"
  },
  "language_info": {
   "codemirror_mode": {
    "name": "ipython",
    "version": 2
   },
   "file_extension": ".py",
   "mimetype": "text/x-python",
   "name": "python",
   "nbconvert_exporter": "python",
   "pygments_lexer": "ipython2",
   "version": "2.7.12"
  }
 },
 "nbformat": 4,
 "nbformat_minor": 1
}
